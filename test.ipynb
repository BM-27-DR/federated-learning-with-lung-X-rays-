{
 "cells": [
  {
   "cell_type": "code",
   "execution_count": null,
   "id": "3f62bec4",
   "metadata": {
    "colab": {
     "base_uri": "https://localhost:8080/"
    },
    "executionInfo": {
     "elapsed": 17710,
     "status": "ok",
     "timestamp": 1748583797189,
     "user": {
      "displayName": "Bikram Mukherjee",
      "userId": "06654060310173054496"
     },
     "user_tz": -330
    },
    "id": "3f62bec4",
    "outputId": "7092a59e-f3a9-4770-97a9-2d619c53d8de"
   },
   "outputs": [
    {
     "name": "stdout",
     "output_type": "stream",
     "text": [
      "^C\n",
      "Note: you may need to restart the kernel to use updated packages.\n",
      "Requirement already satisfied: fedml in c:\\python310\\lib\\site-packages (0.9.6)\n",
      "Requirement already satisfied: onnx in c:\\python310\\lib\\site-packages (from fedml) (1.17.0)\n",
      "Requirement already satisfied: wandb==0.13.2 in c:\\python310\\lib\\site-packages (from fedml) (0.13.2)\n",
      "Requirement already satisfied: sqlalchemy in c:\\python310\\lib\\site-packages (from fedml) (2.0.41)\n",
      "Requirement already satisfied: multiprocess in c:\\python310\\lib\\site-packages (from fedml) (0.70.18)\n",
      "Requirement already satisfied: geventhttpclient<=2.0.9,>=1.4.4 in c:\\python310\\lib\\site-packages (from fedml) (2.0.9)\n",
      "Requirement already satisfied: httpx in c:\\python310\\lib\\site-packages (from fedml) (0.28.1)\n",
      "Requirement already satisfied: toposort in c:\\python310\\lib\\site-packages (from fedml) (1.10)\n",
      "Requirement already satisfied: paho-mqtt<2.0.0 in c:\\python310\\lib\\site-packages (from fedml) (1.6.1)\n",
      "Requirement already satisfied: pandas in c:\\python310\\lib\\site-packages (from fedml) (2.2.3)\n",
      "Requirement already satisfied: redis in c:\\python310\\lib\\site-packages (from fedml) (6.1.0)\n",
      "Requirement already satisfied: typer<0.10.0,>=0.3.0 in c:\\python310\\lib\\site-packages (from fedml) (0.9.4)\n",
      "Requirement already satisfied: python-dotenv in c:\\python310\\lib\\site-packages (from fedml) (1.1.0)\n",
      "Requirement already satisfied: aiohttp>=3.8.1 in c:\\python310\\lib\\site-packages (from fedml) (3.11.18)\n",
      "Requirement already satisfied: PyYAML in c:\\python310\\lib\\site-packages (from fedml) (6.0.2)\n",
      "Requirement already satisfied: docker==6.1.3 in c:\\python310\\lib\\site-packages (from fedml) (6.1.3)\n",
      "Requirement already satisfied: graphviz<0.9.0,>=0.8.1 in c:\\python310\\lib\\site-packages (from fedml) (0.8.4)\n",
      "Requirement already satisfied: protobuf<4.0dev,>=3.20.2 in c:\\python310\\lib\\site-packages (from fedml) (3.20.3)\n",
      "Requirement already satisfied: torch>=1.13.1 in c:\\python310\\lib\\site-packages (from fedml) (2.7.0)\n",
      "Requirement already satisfied: gensim in c:\\python310\\lib\\site-packages (from fedml) (4.3.3)\n",
      "Requirement already satisfied: pytest-mock in c:\\python310\\lib\\site-packages (from fedml) (3.14.0)\n",
      "Requirement already satisfied: smart-open==6.3.0 in c:\\python310\\lib\\site-packages (from fedml) (6.3.0)\n",
      "Requirement already satisfied: attrs in c:\\python310\\lib\\site-packages (from fedml) (25.3.0)\n",
      "Requirement already satisfied: matplotlib in c:\\python310\\lib\\site-packages (from fedml) (3.10.3)\n",
      "Requirement already satisfied: dill in c:\\python310\\lib\\site-packages (from fedml) (0.4.0)\n",
      "Requirement already satisfied: cachetools in c:\\python310\\lib\\site-packages (from fedml) (5.5.2)\n",
      "Requirement already satisfied: uvicorn in c:\\python310\\lib\\site-packages (from fedml) (0.34.2)\n",
      "Requirement already satisfied: wget in c:\\python310\\lib\\site-packages (from fedml) (3.2)\n",
      "Requirement already satisfied: tzlocal in c:\\python310\\lib\\site-packages (from fedml) (5.3.1)\n",
      "Requirement already satisfied: prettytable in c:\\python310\\lib\\site-packages (from fedml) (3.16.0)\n",
      "Requirement already satisfied: tqdm in c:\\python310\\lib\\site-packages (from fedml) (4.67.1)\n",
      "Requirement already satisfied: py-machineid in c:\\python310\\lib\\site-packages (from fedml) (0.7.0)\n",
      "Requirement already satisfied: numpy<2.0.0 in c:\\python310\\lib\\site-packages (from fedml) (1.26.4)\n",
      "Requirement already satisfied: typing_extensions in c:\\users\\bikra\\appdata\\roaming\\python\\python310\\site-packages (from fedml) (4.13.2)\n",
      "Requirement already satisfied: torchvision>=0.14.1 in c:\\python310\\lib\\site-packages (from fedml) (0.22.0)\n",
      "Requirement already satisfied: GPUtil in c:\\python310\\lib\\site-packages (from fedml) (1.4.0)\n",
      "Requirement already satisfied: h5py in c:\\python310\\lib\\site-packages (from fedml) (3.13.0)\n",
      "Requirement already satisfied: boto3 in c:\\python310\\lib\\site-packages (from fedml) (1.38.21)\n",
      "Requirement already satisfied: chardet in c:\\python310\\lib\\site-packages (from fedml) (5.2.0)\n",
      "Requirement already satisfied: requests<2.32 in c:\\python310\\lib\\site-packages (from fedml) (2.31.0)\n",
      "Requirement already satisfied: ntplib in c:\\python310\\lib\\site-packages (from fedml) (0.4.0)\n",
      "Requirement already satisfied: networkx<3.0 in c:\\python310\\lib\\site-packages (from fedml) (2.8.8)\n",
      "Requirement already satisfied: tritonclient in c:\\python310\\lib\\site-packages (from fedml) (2.57.0)\n",
      "Requirement already satisfied: fastapi-cli==0.0.1 in c:\\python310\\lib\\site-packages (from fedml) (0.0.1)\n",
      "Requirement already satisfied: click in c:\\python310\\lib\\site-packages (from fedml) (8.2.1)\n",
      "Requirement already satisfied: fastapi in c:\\python310\\lib\\site-packages (from fedml) (0.115.12)\n",
      "Requirement already satisfied: scikit-learn in c:\\python310\\lib\\site-packages (from fedml) (1.6.1)\n",
      "Requirement already satisfied: attrdict in c:\\python310\\lib\\site-packages (from fedml) (2.0.1)\n",
      "Requirement already satisfied: pydantic in c:\\python310\\lib\\site-packages (from fedml) (2.11.4)\n",
      "Requirement already satisfied: pytest in c:\\python310\\lib\\site-packages (from fedml) (8.3.5)\n",
      "Requirement already satisfied: python-rapidjson>=0.9.1 in c:\\python310\\lib\\site-packages (from fedml) (1.20)\n",
      "Requirement already satisfied: pywin32>=304 in c:\\users\\bikra\\appdata\\roaming\\python\\python310\\site-packages (from docker==6.1.3->fedml) (310)\n",
      "Requirement already satisfied: websocket-client>=0.32.0 in c:\\python310\\lib\\site-packages (from docker==6.1.3->fedml) (1.8.0)\n",
      "Requirement already satisfied: packaging>=14.0 in c:\\users\\bikra\\appdata\\roaming\\python\\python310\\site-packages (from docker==6.1.3->fedml) (25.0)\n",
      "Requirement already satisfied: urllib3>=1.26.0 in c:\\python310\\lib\\site-packages (from docker==6.1.3->fedml) (2.4.0)\n",
      "Requirement already satisfied: importlib_metadata<2.0,>=1.5 in c:\\python310\\lib\\site-packages (from fastapi-cli==0.0.1->fedml) (1.7.0)\n",
      "Requirement already satisfied: setuptools in c:\\python310\\lib\\site-packages (from wandb==0.13.2->fedml) (65.5.0)\n",
      "Requirement already satisfied: docker-pycreds>=0.4.0 in c:\\python310\\lib\\site-packages (from wandb==0.13.2->fedml) (0.4.0)\n",
      "Requirement already satisfied: six>=1.13.0 in c:\\users\\bikra\\appdata\\roaming\\python\\python310\\site-packages (from wandb==0.13.2->fedml) (1.17.0)\n",
      "Requirement already satisfied: setproctitle in c:\\python310\\lib\\site-packages (from wandb==0.13.2->fedml) (1.3.6)\n",
      "Requirement already satisfied: promise<3,>=2.0 in c:\\python310\\lib\\site-packages (from wandb==0.13.2->fedml) (2.3)\n",
      "Requirement already satisfied: psutil>=5.0.0 in c:\\users\\bikra\\appdata\\roaming\\python\\python310\\site-packages (from wandb==0.13.2->fedml) (7.0.0)\n",
      "Requirement already satisfied: pathtools in c:\\python310\\lib\\site-packages (from wandb==0.13.2->fedml) (0.1.2)\n",
      "Requirement already satisfied: GitPython>=1.0.0 in c:\\python310\\lib\\site-packages (from wandb==0.13.2->fedml) (3.1.44)\n",
      "Requirement already satisfied: sentry-sdk>=1.0.0 in c:\\python310\\lib\\site-packages (from wandb==0.13.2->fedml) (2.29.1)\n",
      "Requirement already satisfied: shortuuid>=0.5.0 in c:\\python310\\lib\\site-packages (from wandb==0.13.2->fedml) (1.0.13)\n",
      "Requirement already satisfied: propcache>=0.2.0 in c:\\python310\\lib\\site-packages (from aiohttp>=3.8.1->fedml) (0.3.1)\n",
      "Requirement already satisfied: aiohappyeyeballs>=2.3.0 in c:\\python310\\lib\\site-packages (from aiohttp>=3.8.1->fedml) (2.6.1)\n",
      "Requirement already satisfied: multidict<7.0,>=4.5 in c:\\python310\\lib\\site-packages (from aiohttp>=3.8.1->fedml) (6.4.4)\n",
      "Requirement already satisfied: yarl<2.0,>=1.17.0 in c:\\python310\\lib\\site-packages (from aiohttp>=3.8.1->fedml) (1.20.0)\n",
      "Requirement already satisfied: async-timeout<6.0,>=4.0 in c:\\python310\\lib\\site-packages (from aiohttp>=3.8.1->fedml) (5.0.1)\n",
      "Requirement already satisfied: frozenlist>=1.1.1 in c:\\python310\\lib\\site-packages (from aiohttp>=3.8.1->fedml) (1.6.0)\n",
      "Requirement already satisfied: aiosignal>=1.1.2 in c:\\python310\\lib\\site-packages (from aiohttp>=3.8.1->fedml) (1.3.2)\n",
      "Requirement already satisfied: colorama in c:\\users\\bikra\\appdata\\roaming\\python\\python310\\site-packages (from click->fedml) (0.4.6)\n",
      "Requirement already satisfied: brotli in c:\\python310\\lib\\site-packages (from geventhttpclient<=2.0.9,>=1.4.4->fedml) (1.1.0)\n",
      "Requirement already satisfied: certifi in c:\\python310\\lib\\site-packages (from geventhttpclient<=2.0.9,>=1.4.4->fedml) (2025.4.26)\n",
      "Requirement already satisfied: gevent>=0.13 in c:\\python310\\lib\\site-packages (from geventhttpclient<=2.0.9,>=1.4.4->fedml) (25.5.1)\n",
      "Requirement already satisfied: charset-normalizer<4,>=2 in c:\\python310\\lib\\site-packages (from requests<2.32->fedml) (3.4.2)\n",
      "Requirement already satisfied: idna<4,>=2.5 in c:\\python310\\lib\\site-packages (from requests<2.32->fedml) (3.10)\n",
      "Requirement already satisfied: jinja2 in c:\\python310\\lib\\site-packages (from torch>=1.13.1->fedml) (3.1.6)\n",
      "Requirement already satisfied: filelock in c:\\python310\\lib\\site-packages (from torch>=1.13.1->fedml) (3.18.0)\n",
      "Requirement already satisfied: fsspec in c:\\python310\\lib\\site-packages (from torch>=1.13.1->fedml) (2025.5.0)\n",
      "Requirement already satisfied: sympy>=1.13.3 in c:\\python310\\lib\\site-packages (from torch>=1.13.1->fedml) (1.14.0)\n",
      "Requirement already satisfied: pillow!=8.3.*,>=5.3.0 in c:\\python310\\lib\\site-packages (from torchvision>=0.14.1->fedml) (11.2.1)\n",
      "Requirement already satisfied: jmespath<2.0.0,>=0.7.1 in c:\\python310\\lib\\site-packages (from boto3->fedml) (1.0.1)\n",
      "Requirement already satisfied: s3transfer<0.13.0,>=0.12.0 in c:\\python310\\lib\\site-packages (from boto3->fedml) (0.12.0)\n",
      "Requirement already satisfied: botocore<1.39.0,>=1.38.21 in c:\\python310\\lib\\site-packages (from boto3->fedml) (1.38.21)\n",
      "Requirement already satisfied: starlette<0.47.0,>=0.40.0 in c:\\python310\\lib\\site-packages (from fastapi->fedml) (0.46.2)\n",
      "Requirement already satisfied: typing-inspection>=0.4.0 in c:\\python310\\lib\\site-packages (from pydantic->fedml) (0.4.1)\n",
      "Requirement already satisfied: annotated-types>=0.6.0 in c:\\python310\\lib\\site-packages (from pydantic->fedml) (0.7.0)\n",
      "Requirement already satisfied: pydantic-core==2.33.2 in c:\\python310\\lib\\site-packages (from pydantic->fedml) (2.33.2)\n",
      "Requirement already satisfied: scipy<1.14.0,>=1.7.0 in c:\\python310\\lib\\site-packages (from gensim->fedml) (1.13.1)\n",
      "Requirement already satisfied: httpcore==1.* in c:\\python310\\lib\\site-packages (from httpx->fedml) (1.0.9)\n",
      "Requirement already satisfied: anyio in c:\\python310\\lib\\site-packages (from httpx->fedml) (4.9.0)\n",
      "Requirement already satisfied: h11>=0.16 in c:\\python310\\lib\\site-packages (from httpcore==1.*->httpx->fedml) (0.16.0)\n",
      "Requirement already satisfied: fonttools>=4.22.0 in c:\\python310\\lib\\site-packages (from matplotlib->fedml) (4.58.0)\n",
      "Requirement already satisfied: contourpy>=1.0.1 in c:\\python310\\lib\\site-packages (from matplotlib->fedml) (1.3.2)\n",
      "Requirement already satisfied: kiwisolver>=1.3.1 in c:\\python310\\lib\\site-packages (from matplotlib->fedml) (1.4.8)\n",
      "Requirement already satisfied: python-dateutil>=2.7 in c:\\users\\bikra\\appdata\\roaming\\python\\python310\\site-packages (from matplotlib->fedml) (2.9.0.post0)\n",
      "Requirement already satisfied: cycler>=0.10 in c:\\python310\\lib\\site-packages (from matplotlib->fedml) (0.12.1)\n",
      "Requirement already satisfied: pyparsing>=2.3.1 in c:\\python310\\lib\\site-packages (from matplotlib->fedml) (3.2.3)\n",
      "Requirement already satisfied: tzdata>=2022.7 in c:\\python310\\lib\\site-packages (from pandas->fedml) (2025.2)\n",
      "Requirement already satisfied: pytz>=2020.1 in c:\\python310\\lib\\site-packages (from pandas->fedml) (2025.2)\n",
      "Requirement already satisfied: wcwidth in c:\\users\\bikra\\appdata\\roaming\\python\\python310\\site-packages (from prettytable->fedml) (0.2.13)\n",
      "Requirement already satisfied: winregistry<3.0.0,>=2.0.1 in c:\\python310\\lib\\site-packages (from py-machineid->fedml) (2.1.1)\n",
      "Requirement already satisfied: tomli>=1 in c:\\python310\\lib\\site-packages (from pytest->fedml) (2.2.1)\n",
      "Requirement already satisfied: exceptiongroup>=1.0.0rc8 in c:\\users\\bikra\\appdata\\roaming\\python\\python310\\site-packages (from pytest->fedml) (1.3.0)\n",
      "Requirement already satisfied: iniconfig in c:\\python310\\lib\\site-packages (from pytest->fedml) (2.1.0)\n",
      "Requirement already satisfied: pluggy<2,>=1.5 in c:\\python310\\lib\\site-packages (from pytest->fedml) (1.6.0)\n",
      "Requirement already satisfied: joblib>=1.2.0 in c:\\python310\\lib\\site-packages (from scikit-learn->fedml) (1.5.0)\n",
      "Requirement already satisfied: threadpoolctl>=3.1.0 in c:\\python310\\lib\\site-packages (from scikit-learn->fedml) (3.6.0)\n",
      "Requirement already satisfied: greenlet>=1 in c:\\python310\\lib\\site-packages (from sqlalchemy->fedml) (3.2.2)\n",
      "Requirement already satisfied: cffi>=1.17.1 in c:\\python310\\lib\\site-packages (from gevent>=0.13->geventhttpclient<=2.0.9,>=1.4.4->fedml) (1.17.1)\n",
      "Requirement already satisfied: zope.interface in c:\\python310\\lib\\site-packages (from gevent>=0.13->geventhttpclient<=2.0.9,>=1.4.4->fedml) (7.2)\n",
      "Requirement already satisfied: zope.event in c:\\python310\\lib\\site-packages (from gevent>=0.13->geventhttpclient<=2.0.9,>=1.4.4->fedml) (5.0)\n",
      "Requirement already satisfied: gitdb<5,>=4.0.1 in c:\\python310\\lib\\site-packages (from GitPython>=1.0.0->wandb==0.13.2->fedml) (4.0.12)\n",
      "Requirement already satisfied: zipp>=0.5 in c:\\python310\\lib\\site-packages (from importlib_metadata<2.0,>=1.5->fastapi-cli==0.0.1->fedml) (3.21.0)\n",
      "Requirement already satisfied: sniffio>=1.1 in c:\\python310\\lib\\site-packages (from anyio->httpx->fedml) (1.3.1)\n",
      "Requirement already satisfied: mpmath<1.4,>=1.1.0 in c:\\python310\\lib\\site-packages (from sympy>=1.13.3->torch>=1.13.1->fedml) (1.3.0)\n",
      "Requirement already satisfied: MarkupSafe>=2.0 in c:\\python310\\lib\\site-packages (from jinja2->torch>=1.13.1->fedml) (3.0.2)\n",
      "Requirement already satisfied: pycparser in c:\\python310\\lib\\site-packages (from cffi>=1.17.1->gevent>=0.13->geventhttpclient<=2.0.9,>=1.4.4->fedml) (2.22)\n",
      "Requirement already satisfied: smmap<6,>=3.0.1 in c:\\python310\\lib\\site-packages (from gitdb<5,>=4.0.1->GitPython>=1.0.0->wandb==0.13.2->fedml) (5.0.2)\n",
      "Note: you may need to restart the kernel to use updated packages.\n"
     ]
    },
    {
     "name": "stderr",
     "output_type": "stream",
     "text": [
      "WARNING: Ignoring invalid distribution -umpy (c:\\python310\\lib\\site-packages)\n",
      "WARNING: Ignoring invalid distribution -umpy (c:\\python310\\lib\\site-packages)\n",
      "WARNING: Ignoring invalid distribution -umpy (c:\\python310\\lib\\site-packages)\n",
      "WARNING: Ignoring invalid distribution -umpy (c:\\python310\\lib\\site-packages)\n",
      "WARNING: Ignoring invalid distribution -umpy (c:\\python310\\lib\\site-packages)\n",
      "WARNING: Ignoring invalid distribution -umpy (c:\\python310\\lib\\site-packages)\n",
      "\n",
      "[notice] A new release of pip is available: 23.0.1 -> 25.1.1\n",
      "[notice] To update, run: python.exe -m pip install --upgrade pip\n"
     ]
    },
    {
     "name": "stdout",
     "output_type": "stream",
     "text": [
      "Note: you may need to restart the kernel to use updated packages.\n"
     ]
    },
    {
     "name": "stderr",
     "output_type": "stream",
     "text": [
      "WARNING: Ignoring invalid distribution -umpy (c:\\python310\\lib\\site-packages)\n",
      "WARNING: Ignoring invalid distribution -umpy (c:\\python310\\lib\\site-packages)\n",
      "WARNING: Ignoring invalid distribution -umpy (c:\\python310\\lib\\site-packages)\n",
      "WARNING: Ignoring invalid distribution -umpy (c:\\python310\\lib\\site-packages)\n",
      "WARNING: Ignoring invalid distribution -umpy (c:\\python310\\lib\\site-packages)\n",
      "WARNING: Ignoring invalid distribution -umpy (c:\\python310\\lib\\site-packages)\n",
      "\n",
      "[notice] A new release of pip is available: 23.0.1 -> 25.1.1\n",
      "[notice] To update, run: python.exe -m pip install --upgrade pip\n"
     ]
    },
    {
     "name": "stdout",
     "output_type": "stream",
     "text": [
      "Requirement already satisfied: scikit-learn in c:\\python310\\lib\\site-packages (1.6.1)\n",
      "Requirement already satisfied: pandas in c:\\python310\\lib\\site-packages (2.2.3)\n",
      "Requirement already satisfied: numpy>=1.19.5 in c:\\python310\\lib\\site-packages (from scikit-learn) (1.26.4)\n",
      "Requirement already satisfied: threadpoolctl>=3.1.0 in c:\\python310\\lib\\site-packages (from scikit-learn) (3.6.0)\n",
      "Requirement already satisfied: joblib>=1.2.0 in c:\\python310\\lib\\site-packages (from scikit-learn) (1.5.0)\n",
      "Requirement already satisfied: scipy>=1.6.0 in c:\\python310\\lib\\site-packages (from scikit-learn) (1.13.1)\n",
      "Requirement already satisfied: tzdata>=2022.7 in c:\\python310\\lib\\site-packages (from pandas) (2025.2)\n",
      "Requirement already satisfied: pytz>=2020.1 in c:\\python310\\lib\\site-packages (from pandas) (2025.2)\n",
      "Requirement already satisfied: python-dateutil>=2.8.2 in c:\\users\\bikra\\appdata\\roaming\\python\\python310\\site-packages (from pandas) (2.9.0.post0)\n",
      "Requirement already satisfied: six>=1.5 in c:\\users\\bikra\\appdata\\roaming\\python\\python310\\site-packages (from python-dateutil>=2.8.2->pandas) (1.17.0)\n",
      "Requirement already satisfied: imbalanced-learn in c:\\python310\\lib\\site-packages (0.13.0)Note: you may need to restart the kernel to use updated packages.\n",
      "\n",
      "Requirement already satisfied: scikit-learn<2,>=1.3.2 in c:\\python310\\lib\\site-packages (from imbalanced-learn) (1.6.1)\n",
      "Requirement already satisfied: numpy<3,>=1.24.3 in c:\\python310\\lib\\site-packages (from imbalanced-learn) (1.26.4)\n",
      "Requirement already satisfied: scipy<2,>=1.10.1 in c:\\python310\\lib\\site-packages (from imbalanced-learn) (1.13.1)\n",
      "Requirement already satisfied: threadpoolctl<4,>=2.0.0 in c:\\python310\\lib\\site-packages (from imbalanced-learn) (3.6.0)\n",
      "Requirement already satisfied: sklearn-compat<1,>=0.1 in c:\\python310\\lib\\site-packages (from imbalanced-learn) (0.1.3)\n",
      "Requirement already satisfied: joblib<2,>=1.1.1 in c:\\python310\\lib\\site-packages (from imbalanced-learn) (1.5.0)\n"
     ]
    },
    {
     "name": "stderr",
     "output_type": "stream",
     "text": [
      "WARNING: Ignoring invalid distribution -umpy (c:\\python310\\lib\\site-packages)\n",
      "WARNING: Ignoring invalid distribution -umpy (c:\\python310\\lib\\site-packages)\n",
      "WARNING: Ignoring invalid distribution -umpy (c:\\python310\\lib\\site-packages)\n",
      "WARNING: Ignoring invalid distribution -umpy (c:\\python310\\lib\\site-packages)\n",
      "WARNING: Ignoring invalid distribution -umpy (c:\\python310\\lib\\site-packages)\n",
      "WARNING: Ignoring invalid distribution -umpy (c:\\python310\\lib\\site-packages)\n",
      "\n",
      "[notice] A new release of pip is available: 23.0.1 -> 25.1.1\n",
      "[notice] To update, run: python.exe -m pip install --upgrade pip\n"
     ]
    },
    {
     "name": "stdout",
     "output_type": "stream",
     "text": [
      "Requirement already satisfied: matplotlib in c:\\python310\\lib\\site-packages (3.10.3)\n",
      "Requirement already satisfied: seaborn in c:\\python310\\lib\\site-packages (0.13.2)\n",
      "Requirement already satisfied: contourpy>=1.0.1 in c:\\python310\\lib\\site-packages (from matplotlib) (1.3.2)\n",
      "Requirement already satisfied: pillow>=8 in c:\\python310\\lib\\site-packages (from matplotlib) (11.2.1)\n",
      "Requirement already satisfied: pyparsing>=2.3.1 in c:\\python310\\lib\\site-packages (from matplotlib) (3.2.3)\n",
      "Requirement already satisfied: cycler>=0.10 in c:\\python310\\lib\\site-packages (from matplotlib) (0.12.1)\n",
      "Requirement already satisfied: numpy>=1.23 in c:\\python310\\lib\\site-packages (from matplotlib) (1.26.4)\n",
      "Requirement already satisfied: packaging>=20.0 in c:\\users\\bikra\\appdata\\roaming\\python\\python310\\site-packages (from matplotlib) (25.0)\n",
      "Requirement already satisfied: kiwisolver>=1.3.1 in c:\\python310\\lib\\site-packages (from matplotlib) (1.4.8)\n",
      "Requirement already satisfied: fonttools>=4.22.0 in c:\\python310\\lib\\site-packages (from matplotlib) (4.58.0)\n",
      "Requirement already satisfied: python-dateutil>=2.7 in c:\\users\\bikra\\appdata\\roaming\\python\\python310\\site-packages (from matplotlib) (2.9.0.post0)\n",
      "Requirement already satisfied: pandas>=1.2 in c:\\python310\\lib\\site-packages (from seaborn) (2.2.3)\n",
      "Requirement already satisfied: pytz>=2020.1 in c:\\python310\\lib\\site-packages (from pandas>=1.2->seaborn) (2025.2)\n",
      "Requirement already satisfied: tzdata>=2022.7 in c:\\python310\\lib\\site-packages (from pandas>=1.2->seaborn) (2025.2)\n",
      "Requirement already satisfied: six>=1.5 in c:\\users\\bikra\\appdata\\roaming\\python\\python310\\site-packages (from python-dateutil>=2.7->matplotlib) (1.17.0)\n",
      "Note: you may need to restart the kernel to use updated packages.\n"
     ]
    },
    {
     "name": "stderr",
     "output_type": "stream",
     "text": [
      "WARNING: Ignoring invalid distribution -umpy (c:\\python310\\lib\\site-packages)\n",
      "WARNING: Ignoring invalid distribution -umpy (c:\\python310\\lib\\site-packages)\n",
      "WARNING: Ignoring invalid distribution -umpy (c:\\python310\\lib\\site-packages)\n",
      "WARNING: Ignoring invalid distribution -umpy (c:\\python310\\lib\\site-packages)\n",
      "WARNING: Ignoring invalid distribution -umpy (c:\\python310\\lib\\site-packages)\n",
      "WARNING: Ignoring invalid distribution -umpy (c:\\python310\\lib\\site-packages)\n",
      "\n",
      "[notice] A new release of pip is available: 23.0.1 -> 25.1.1\n",
      "[notice] To update, run: python.exe -m pip install --upgrade pip\n"
     ]
    }
   ],
   "source": [
    "%pip install torch==2.0.1 torchvision==0.15.2 torchaudio==2.0.2 --index-url https://download.pytorch.org/whl/cu118\n",
    "%pip install fedml\n",
    "%pip install scikit-learn pandas\n",
    "%pip install imbalanced-learn\n",
    "%pip install matplotlib seaborn\n",
    "%pip install tqdm"
   ]
  },
  {
   "cell_type": "code",
   "execution_count": 2,
   "id": "f5398535",
   "metadata": {},
   "outputs": [
    {
     "name": "stdout",
     "output_type": "stream",
     "text": [
      "Note: you may need to restart the kernel to use updated packages.\n"
     ]
    },
    {
     "name": "stderr",
     "output_type": "stream",
     "text": [
      "\n",
      "Usage:   \n",
      "  c:\\Users\\Bikram\\AppData\\Local\\Programs\\Python\\Python310\\python.exe -m pip uninstall [options] <package> ...\n",
      "  c:\\Users\\Bikram\\AppData\\Local\\Programs\\Python\\Python310\\python.exe -m pip uninstall [options] -r <requirements file> ...\n",
      "\n",
      "no such option: -p\n"
     ]
    }
   ],
   "source": [
    "%pip uninstall torch torchvision torchaudio -ypip install torch==2.0.1 torchvision==0.15.2 torchaudio==2.0.2 --index-url https://download.pytorch.org/whl/cu118\n",
    "\n"
   ]
  },
  {
   "cell_type": "code",
   "execution_count": 3,
   "id": "IgotTdHvg11A",
   "metadata": {
    "colab": {
     "base_uri": "https://localhost:8080/"
    },
    "id": "IgotTdHvg11A",
    "outputId": "6cf6100d-4395-4183-c90e-a63586c8d8e8"
   },
   "outputs": [
    {
     "name": "stdout",
     "output_type": "stream",
     "text": [
      "Requirement already satisfied: opacus==1.3.0 in c:\\users\\bikram\\appdata\\local\\programs\\python\\python310\\lib\\site-packages (1.3.0)\n",
      "Requirement already satisfied: numpy>=1.15 in c:\\users\\bikram\\appdata\\local\\programs\\python\\python310\\lib\\site-packages (from opacus==1.3.0) (1.26.4)\n",
      "Requirement already satisfied: torch>=1.8 in c:\\users\\bikram\\appdata\\local\\programs\\python\\python310\\lib\\site-packages (from opacus==1.3.0) (2.0.1+cu118)\n",
      "Requirement already satisfied: functorch in c:\\users\\bikram\\appdata\\local\\programs\\python\\python310\\lib\\site-packages (from opacus==1.3.0) (2.0.0)\n",
      "Requirement already satisfied: opt-einsum>=3.3.0 in c:\\users\\bikram\\appdata\\local\\programs\\python\\python310\\lib\\site-packages (from opacus==1.3.0) (3.4.0)\n",
      "Requirement already satisfied: scipy>=1.2 in c:\\users\\bikram\\appdata\\local\\programs\\python\\python310\\lib\\site-packages (from opacus==1.3.0) (1.13.1)\n",
      "Requirement already satisfied: networkx in c:\\users\\bikram\\appdata\\local\\programs\\python\\python310\\lib\\site-packages (from torch>=1.8->opacus==1.3.0) (2.8.8)\n",
      "Requirement already satisfied: sympy in c:\\users\\bikram\\appdata\\local\\programs\\python\\python310\\lib\\site-packages (from torch>=1.8->opacus==1.3.0) (1.14.0)\n",
      "Requirement already satisfied: jinja2 in c:\\users\\bikram\\appdata\\local\\programs\\python\\python310\\lib\\site-packages (from torch>=1.8->opacus==1.3.0) (3.1.6)\n",
      "Requirement already satisfied: typing-extensions in c:\\users\\bikram\\appdata\\roaming\\python\\python310\\site-packages (from torch>=1.8->opacus==1.3.0) (4.14.0)\n",
      "Requirement already satisfied: filelock in c:\\users\\bikram\\appdata\\local\\programs\\python\\python310\\lib\\site-packages (from torch>=1.8->opacus==1.3.0) (3.18.0)\n",
      "Requirement already satisfied: MarkupSafe>=2.0 in c:\\users\\bikram\\appdata\\local\\programs\\python\\python310\\lib\\site-packages (from jinja2->torch>=1.8->opacus==1.3.0) (3.0.2)\n",
      "Requirement already satisfied: mpmath<1.4,>=1.1.0 in c:\\users\\bikram\\appdata\\local\\programs\\python\\python310\\lib\\site-packages (from sympy->torch>=1.8->opacus==1.3.0) (1.3.0)\n",
      "Note: you may need to restart the kernel to use updated packages.\n"
     ]
    },
    {
     "name": "stderr",
     "output_type": "stream",
     "text": [
      "\n",
      "[notice] A new release of pip is available: 23.0.1 -> 25.1.1\n",
      "[notice] To update, run: python.exe -m pip install --upgrade pip\n"
     ]
    }
   ],
   "source": [
    "%pip install opacus==1.3.0\n"
   ]
  },
  {
   "cell_type": "code",
   "execution_count": 4,
   "id": "053c921c",
   "metadata": {
    "colab": {
     "base_uri": "https://localhost:8080/",
     "height": 529
    },
    "executionInfo": {
     "elapsed": 165,
     "status": "error",
     "timestamp": 1748583815500,
     "user": {
      "displayName": "Bikram Mukherjee",
      "userId": "06654060310173054496"
     },
     "user_tz": -330
    },
    "id": "053c921c",
    "outputId": "7bc5dd66-eb2a-4661-a0ec-5a9da50f88b1"
   },
   "outputs": [
    {
     "name": "stdout",
     "output_type": "stream",
     "text": [
      " Torch version: 2.0.1+cu118\n",
      " CUDA available: True\n",
      " GPU device: NVIDIA T1000 8GB\n"
     ]
    }
   ],
   "source": [
    "import torch\n",
    "import torch.nn as nn\n",
    "import torch.nn.functional as F\n",
    "import torch.optim as optim\n",
    "from torchvision import datasets, transforms, models\n",
    "from torch.utils.data import DataLoader, Dataset, random_split\n",
    "#  Differential Privacy with Opacus\n",
    "from opacus import PrivacyEngine\n",
    "from opacus.utils.batch_memory_manager import BatchMemoryManager\n",
    "#  Federated Learning (FedML)\n",
    "from fedml import FedMLRunner  # Entry point — you’ll define your own runner or logic\n",
    "#  Data Handling and ML Evaluation\n",
    "import pandas as pd\n",
    "import numpy as np\n",
    "from sklearn.model_selection import train_test_split\n",
    "from sklearn.metrics import classification_report, confusion_matrix, accuracy_score, f1_score\n",
    "#  Imbalanced Data Handling\n",
    "from imblearn.over_sampling import SMOTE, ADASYN\n",
    "#  Visualization\n",
    "import matplotlib.pyplot as plt\n",
    "import seaborn as sns\n",
    "#  Progress Bar\n",
    "from tqdm import tqdm\n",
    "#  System & Debugging\n",
    "import os\n",
    "import random\n",
    "import warnings\n",
    "warnings.filterwarnings(\"ignore\")\n",
    "#  Check GPU device\n",
    "print(\" Torch version:\", torch.__version__)\n",
    "print(\" CUDA available:\", torch.cuda.is_available())\n",
    "if torch.cuda.is_available():\n",
    "    print(\" GPU device:\", torch.cuda.get_device_name(0))\n"
   ]
  },
  {
   "cell_type": "markdown",
   "id": "e30919ad",
   "metadata": {
    "id": "e30919ad"
   },
   "source": [
    "Define Global Configurations\n",
    "\n"
   ]
  },
  {
   "cell_type": "code",
   "execution_count": null,
   "id": "4a542ae7",
   "metadata": {
    "colab": {
     "base_uri": "https://localhost:8080/"
    },
    "executionInfo": {
     "elapsed": 10,
     "status": "ok",
     "timestamp": 1748496938514,
     "user": {
      "displayName": "Bikram Mukherjee",
      "userId": "06654060310173054496"
     },
     "user_tz": -330
    },
    "id": "4a542ae7",
    "outputId": "2fd68f2b-6c6d-40bf-c338-a9027ca2dfd8"
   },
   "outputs": [
    {
     "name": "stdout",
     "output_type": "stream",
     "text": [
      "Configuration loaded. Using device: cuda\n"
     ]
    }
   ],
   "source": [
    "import torch\n",
    "import random\n",
    "import numpy as np\n",
    "\n",
    "#  Global configurations for the entire experiment\n",
    "class Args:\n",
    "    # Data and model config\n",
    "    image_size = 224\n",
    "    num_classes = 3  # 0: COVID, 1: Pneumonia, 2: Normal\n",
    "    batch_size = 32\n",
    "    lr = 0.01\n",
    "    epochs = 7\n",
    "    noise_multiplier = 1.0\n",
    "    max_grad_norm = 1.0\n",
    "    delta = 1e-5  # For epsilon calculation\n",
    "\n",
    "    round_count = 10              \n",
    "    client_sizes = [3, 7, 10, 13]  \n",
    "    initial_clients = 6           \n",
    "    drop_rate = 0.2                \n",
    "    device = torch.device(\"cuda\" if torch.cuda.is_available() else \"cpu\")\n",
    "\n",
    "    # Seed for reproducibility\n",
    "    seed = 42\n",
    "\n",
    "# Instantiate config\n",
    "args = Args()\n",
    "\n",
    "# Optional: Set global random seed for reproducibility\n",
    "torch.manual_seed(args.seed)\n",
    "np.random.seed(args.seed)\n",
    "random.seed(args.seed)\n",
    "if torch.cuda.is_available():\n",
    "    torch.cuda.manual_seed_all(args.seed)\n",
    "\n",
    "print(\"Configuration loaded. Using device:\", args.device)\n"
   ]
  },
  {
   "cell_type": "markdown",
   "id": "80c21813",
   "metadata": {
    "id": "80c21813"
   },
   "source": [
    "Load and Clean dataset\n"
   ]
  },
  {
   "cell_type": "code",
   "execution_count": null,
   "id": "a693881c",
   "metadata": {
    "colab": {
     "base_uri": "https://localhost:8080/"
    },
    "executionInfo": {
     "elapsed": 115,
     "status": "ok",
     "timestamp": 1748496981446,
     "user": {
      "displayName": "Bikram Mukherjee",
      "userId": "06654060310173054496"
     },
     "user_tz": -330
    },
    "id": "a693881c",
    "outputId": "ed813bee-2b99-44e6-949c-534ab113527f"
   },
   "outputs": [
    {
     "name": "stdout",
     "output_type": "stream",
     "text": [
      "✅ Total image paths collected: 26381\n",
      "✅ Train set size: 21104 samples\n",
      "✅ Test set size: 5277 samples\n",
      "\n",
      "📊 Training class distribution:\n",
      "   Pneumonia (Label 1): 8985 samples\n",
      "   Normal (Label 2): 9226 samples\n",
      "   COVID (Label 0): 2893 samples\n",
      "\n",
      "📊 Testing class distribution:\n",
      "   COVID (Label 0): 723 samples\n",
      "   Pneumonia (Label 1): 2247 samples\n",
      "   Normal (Label 2): 2307 samples\n",
      "✅ Training dataset ready with 21104 samples.\n",
      "✅ Testing dataset ready with 5277 samples.\n"
     ]
    }
   ],
   "source": [
    "from PIL import Image\n",
    "from torchvision import transforms\n",
    "from torch.utils.data import Dataset\n",
    "from sklearn.model_selection import train_test_split\n",
    "import os\n",
    "import random\n",
    "\n",
    "#  Define transform pipeline (resize, normalize like ImageNet)\n",
    "img_transform = transforms.Compose([\n",
    "    transforms.Resize((args.image_size, args.image_size)),\n",
    "    transforms.ToTensor(),\n",
    "    transforms.Normalize(mean=[0.485, 0.456, 0.406],\n",
    "                         std=[0.229, 0.224, 0.225])\n",
    "])\n",
    "\n",
    "#  Step 1: Collect image file paths and labels (very low memory)\n",
    "def collect_image_paths(folder_path, label):\n",
    "    dataset = []\n",
    "    for fname in os.listdir(folder_path):\n",
    "        if fname.lower().endswith((\".png\", \".jpg\", \".jpeg\")):\n",
    "            img_path = os.path.join(folder_path, fname)\n",
    "            dataset.append((img_path, label))\n",
    "    return dataset\n",
    "\n",
    "#  Step 2: Define dataset paths\n",
    "covid_path = \"COVID-19_Radiography_Dataset\"\n",
    "covid_images = collect_image_paths(os.path.join(covid_path, \"COVID/images\"), label=0)\n",
    "viral_images = collect_image_paths(os.path.join(covid_path, \"Viral_Pneumonia/images\"), label=1)\n",
    "lung_opacity_images = collect_image_paths(os.path.join(covid_path, \"Lung_Opacity/images\"), label=1)\n",
    "normal_images_covid = collect_image_paths(os.path.join(covid_path, \"Normal/images\"), label=2)\n",
    "\n",
    "pneu_path = \"chest_xray\"\n",
    "normal_images_pneu = collect_image_paths(os.path.join(pneu_path, \"train/NORMAL\"), label=2)\n",
    "pneumonia_images = collect_image_paths(os.path.join(pneu_path, \"train/PNEUMONIA\"), label=1)\n",
    "\n",
    "#  Step 3: Merge all path+label pairs\n",
    "all_image_paths = (\n",
    "    covid_images +\n",
    "    viral_images +\n",
    "    lung_opacity_images +\n",
    "    normal_images_covid +\n",
    "    normal_images_pneu +\n",
    "    pneumonia_images\n",
    ")\n",
    "\n",
    "print(f\" Total image paths collected: {len(all_image_paths)}\")\n",
    "\n",
    "#  Step 4: Split data into train and test (80-20 split)\n",
    "def split_train_test(data, test_size=0.2, random_state=42):\n",
    "    \"\"\"\n",
    "    Split data into train and test sets while maintaining label distribution\n",
    "    \"\"\"\n",
    "    # Separate paths and labels\n",
    "    paths = [item[0] for item in data]\n",
    "    labels = [item[1] for item in data]\n",
    "    \n",
    "    # Stratified split to maintain class distribution\n",
    "    train_paths, test_paths, train_labels, test_labels = train_test_split(\n",
    "        paths, labels, \n",
    "        test_size=test_size, \n",
    "        random_state=random_state, \n",
    "        stratify=labels\n",
    "    )\n",
    "    \n",
    "    # Recombine paths and labels\n",
    "    train_data = list(zip(train_paths, train_labels))\n",
    "    test_data = list(zip(test_paths, test_labels))\n",
    "    \n",
    "    return train_data, test_data\n",
    "\n",
    "#  Perform train-test split\n",
    "train_image_paths, test_image_paths = split_train_test(all_image_paths, test_size=0.2, random_state=42)\n",
    "\n",
    "print(f\" Train set size: {len(train_image_paths)} samples\")\n",
    "print(f\" Test set size: {len(test_image_paths)} samples\")\n",
    "\n",
    "def print_class_distribution(data, dataset_name):\n",
    "    class_counts = {}\n",
    "    for _, label in data:\n",
    "        class_counts[label] = class_counts.get(label, 0) + 1\n",
    "    \n",
    "    print(f\"\\n {dataset_name} class distribution:\")\n",
    "    class_names = {0: \"COVID\", 1: \"Pneumonia\", 2: \"Normal\"}\n",
    "    for label, count in class_counts.items():\n",
    "        print(f\"   {class_names[label]} (Label {label}): {count} samples\")\n",
    "\n",
    "print_class_distribution(train_image_paths, \"Training\")\n",
    "print_class_distribution(test_image_paths, \"Testing\")\n",
    "\n",
    "class XrayLazyDataset(Dataset):\n",
    "    def __init__(self, data, transform=None):\n",
    "        self.data = data\n",
    "        self.transform = transform\n",
    "\n",
    "    def __len__(self):\n",
    "        return len(self.data)\n",
    "\n",
    "    def __getitem__(self, idx):\n",
    "        path_or_img, label = self.data[idx]\n",
    "        try:\n",
    "            if isinstance(path_or_img, str):\n",
    "                # 🧾 It's a file path\n",
    "                img = Image.open(path_or_img).convert(\"RGB\")\n",
    "            else:\n",
    "                # 🖼️ It's already a PIL.Image\n",
    "                img = path_or_img\n",
    "\n",
    "            if self.transform:\n",
    "                img = self.transform(img)\n",
    "            return img, label\n",
    "\n",
    "        except Exception as e:\n",
    "            print(f\"⚠️ Skipping {path_or_img} due to error: {e}\")\n",
    "            return self.__getitem__((idx + 1) % len(self.data))  \n",
    "\n",
    "train_dataset = XrayLazyDataset(train_image_paths, transform=img_transform)\n",
    "test_dataset = XrayLazyDataset(test_image_paths, transform=img_transform)\n",
    "\n",
    "print(f\" Training dataset ready with {len(train_dataset)} samples.\")\n",
    "print(f\" Testing dataset ready with {len(test_dataset)} samples.\")\n",
    "\n",
    "def create_client_datasets(train_data, test_data, num_clients):\n",
    "    \"\"\"\n",
    "    Distribute train and test data among multiple clients\n",
    "    Each client gets a portion of both train and test data\n",
    "    \"\"\"\n",
    "    # Shuffle data for random distribution\n",
    "    random.shuffle(train_data)\n",
    "    random.shuffle(test_data)\n",
    "    \n",
    "    # Calculate samples per client\n",
    "    train_samples_per_client = len(train_data) // num_clients\n",
    "    test_samples_per_client = len(test_data) // num_clients\n",
    "    \n",
    "    client_datasets = {}\n",
    "    \n",
    "    for client_id in range(num_clients):\n",
    "        # Calculate start and end indices for this client\n",
    "        train_start = client_id * train_samples_per_client\n",
    "        train_end = (client_id + 1) * train_samples_per_client if client_id < num_clients - 1 else len(train_data)\n",
    "        \n",
    "        test_start = client_id * test_samples_per_client\n",
    "        test_end = (client_id + 1) * test_samples_per_client if client_id < num_clients - 1 else len(test_data)\n",
    "        \n",
    "        # Create client-specific data\n",
    "        client_train_data = train_data[train_start:train_end]\n",
    "        client_test_data = test_data[test_start:test_end]\n",
    "        \n",
    "        # Create datasets for this client\n",
    "        client_train_dataset = XrayLazyDataset(client_train_data, transform=img_transform)\n",
    "        client_test_dataset = XrayLazyDataset(client_test_data, transform=img_transform)\n",
    "        \n",
    "        client_datasets[f'client_{client_id}'] = {\n",
    "            'train': client_train_dataset,\n",
    "            'test': client_test_dataset\n",
    "        }\n",
    "        \n",
    "        print(f\" Client {client_id}: Train={len(client_train_dataset)}, Test={len(client_test_dataset)}\")\n",
    "    \n",
    "    return client_datasets"
   ]
  },
  {
   "cell_type": "markdown",
   "id": "6daed181",
   "metadata": {
    "id": "6daed181"
   },
   "source": [
    "Plot the distribution\n"
   ]
  },
  {
   "cell_type": "code",
   "execution_count": 7,
   "id": "4d49adfa",
   "metadata": {
    "colab": {
     "base_uri": "https://localhost:8080/",
     "height": 427
    },
    "executionInfo": {
     "elapsed": 81,
     "status": "ok",
     "timestamp": 1748497005024,
     "user": {
      "displayName": "Bikram Mukherjee",
      "userId": "06654060310173054496"
     },
     "user_tz": -330
    },
    "id": "4d49adfa",
    "outputId": "a859910e-816e-45d1-b5a2-0b10a125292a"
   },
   "outputs": [
    {
     "data": {
      "image/png": "[encoded data removed]",
      "text/plain": [
       "<Figure size 600x400 with 1 Axes>"
      ]
     },
     "metadata": {},
     "output_type": "display_data"
    },
    {
     "name": "stdout",
     "output_type": "stream",
     "text": [
      " Label counts: Counter({'Normal': 11533, 'Pneumonia': 11232, 'COVID-19': 3616})\n"
     ]
    }
   ],
   "source": [
    "import matplotlib.pyplot as plt\n",
    "from collections import Counter\n",
    "\n",
    "# Use the already collected image paths and labels\n",
    "all_labels = [label for _, label in all_image_paths]\n",
    "\n",
    "# Label mapping for display\n",
    "label_map = {0: \"COVID-19\", 1: \"Pneumonia\", 2: \"Normal\"}\n",
    "label_names = [label_map[l] for l in all_labels]\n",
    "\n",
    "# Count and plot\n",
    "counter = Counter(label_names)\n",
    "\n",
    "plt.figure(figsize=(6, 4))\n",
    "plt.bar(counter.keys(), counter.values(), color=[\"red\", \"orange\", \"green\"])\n",
    "plt.title(\"Class Distribution in Combined Dataset\")\n",
    "plt.xlabel(\"Class\")\n",
    "plt.ylabel(\"Number of Samples\")\n",
    "plt.grid(True)\n",
    "plt.show()\n",
    "\n",
    "print(\" Label counts:\", counter)\n"
   ]
  },
  {
   "cell_type": "markdown",
   "id": "326aac27",
   "metadata": {
    "id": "326aac27"
   },
   "source": [
    "Data Agumentation"
   ]
  },
  {
   "cell_type": "code",
   "execution_count": 8,
   "id": "a2cbb6da",
   "metadata": {
    "colab": {
     "base_uri": "https://localhost:8080/"
    },
    "executionInfo": {
     "elapsed": 33,
     "status": "ok",
     "timestamp": 1748497009035,
     "user": {
      "displayName": "Bikram Mukherjee",
      "userId": "06654060310173054496"
     },
     "user_tz": -330
    },
    "id": "a2cbb6da",
    "outputId": "4a9a762c-fd57-4bb3-82df-cf8543b873f0"
   },
   "outputs": [
    {
     "name": "stdout",
     "output_type": "stream",
     "text": [
      " Augmentation transforms defined. SMOTE will be applied per client in Cell 6.\n"
     ]
    }
   ],
   "source": [
    "#  Cell 5: Define Image-Level Augmentation Transforms (no SMOTE here)\n",
    "\n",
    "from torchvision import transforms\n",
    "\n",
    "# Basic transform: no augmentation (for test/val)\n",
    "base_transform = transforms.Compose([\n",
    "    transforms.Resize((args.image_size, args.image_size)),\n",
    "    transforms.ToTensor(),\n",
    "    transforms.Normalize(mean=[0.485, 0.456, 0.406],\n",
    "                         std=[0.229, 0.224, 0.225])\n",
    "])\n",
    "\n",
    "# Augmented transform: for training or oversampled data (COVID)\n",
    "augmented_transform = transforms.Compose([\n",
    "    transforms.Resize((args.image_size, args.image_size)),\n",
    "    transforms.RandomHorizontalFlip(),\n",
    "    transforms.RandomRotation(15),\n",
    "    transforms.ColorJitter(brightness=0.2, contrast=0.2),\n",
    "    transforms.ToTensor(),\n",
    "    transforms.Normalize(mean=[0.485, 0.456, 0.406],\n",
    "                         std=[0.229, 0.224, 0.225])\n",
    "])\n",
    "\n",
    "print(\" Augmentation transforms defined. SMOTE will be applied per client in Cell 6.\")\n"
   ]
  },
  {
   "cell_type": "markdown",
   "id": "d9f469fe",
   "metadata": {
    "id": "d9f469fe"
   },
   "source": [
    "Split the data among the clients and smote the minority class"
   ]
  },
  {
   "cell_type": "code",
   "execution_count": 9,
   "id": "1e2bde21",
   "metadata": {
    "colab": {
     "base_uri": "https://localhost:8080/"
    },
    "executionInfo": {
     "elapsed": 38943,
     "status": "ok",
     "timestamp": 1748497050924,
     "user": {
      "displayName": "Bikram Mukherjee",
      "userId": "06654060310173054496"
     },
     "user_tz": -330
    },
    "id": "1e2bde21",
    "outputId": "931ca93e-203d-48f2-b53a-c3338a49a874"
   },
   "outputs": [
    {
     "name": "stdout",
     "output_type": "stream",
     "text": [
      "Original class counts:\n",
      " - COVID: 3616\n",
      " - Pneumonia: 11232\n",
      " - Normal: 11533\n",
      " Combined + balanced dataset size: 34298\n",
      "Client 0: 4572 train, 1144 test samples\n",
      "Client 1: 4572 train, 1144 test samples\n",
      "Client 2: 4572 train, 1144 test samples\n",
      "Client 3: 4572 train, 1144 test samples\n",
      "Client 4: 4572 train, 1144 test samples\n",
      "Client 5: 4574 train, 1144 test samples\n",
      " Created 6 federated clients with train-test splits.\n"
     ]
    }
   ],
   "source": [
    "import random\n",
    "from collections import defaultdict, Counter\n",
    "from PIL import Image\n",
    "from torchvision import transforms\n",
    "\n",
    "# Define COVID-specific augmentation\n",
    "covid_augment = transforms.Compose([\n",
    "    transforms.RandomHorizontalFlip(),\n",
    "    transforms.RandomRotation(10),\n",
    "    transforms.ColorJitter(brightness=0.2, contrast=0.2),\n",
    "])\n",
    "\n",
    "# Step 1: Organize image paths by class\n",
    "label_map = {0: \"COVID\", 1: \"Pneumonia\", 2: \"Normal\"}\n",
    "class_data = defaultdict(list)\n",
    "\n",
    "for path, label in all_image_paths:\n",
    "    class_data[label].append((path, label))\n",
    "\n",
    "print(\"Original class counts:\")\n",
    "for lbl, items in class_data.items():\n",
    "    print(f\" - {label_map[lbl]}: {len(items)}\")\n",
    "\n",
    "# Step 2: Augment COVID class to match max class size\n",
    "target_class_size = max(len(v) for v in class_data.values())\n",
    "augmented_covid_data = class_data[0].copy()\n",
    "\n",
    "while len(augmented_covid_data) < target_class_size:\n",
    "    img_path, label = random.choice(class_data[0])\n",
    "    try:\n",
    "        img = Image.open(img_path).convert(\"RGB\")\n",
    "        aug_img = covid_augment(img)\n",
    "        augmented_covid_data.append((aug_img, label))  # Save PIL image + label\n",
    "    except Exception as e:\n",
    "        print(f\" Augmentation failed on {img_path}: {e}\")\n",
    "\n",
    "# Step 3: Combine all class data\n",
    "combined_dataset = (\n",
    "    augmented_covid_data +\n",
    "    class_data[1] +  # Pneumonia\n",
    "    class_data[2]    # Normal\n",
    ")\n",
    "\n",
    "random.shuffle(combined_dataset)\n",
    "print(f\" Combined + balanced dataset size: {len(combined_dataset)}\")\n",
    "\n",
    "# Step 4: Split among clients (with train-test split)\n",
    "def split_among_clients(dataset, num_clients, train_ratio=0.8):\n",
    "    random.shuffle(dataset)\n",
    "    total = len(dataset)\n",
    "    split_size = total // num_clients\n",
    "    clients = {}\n",
    "\n",
    "    for i in range(num_clients):\n",
    "        start = i * split_size\n",
    "        end = (i + 1) * split_size if i != num_clients - 1 else total\n",
    "        client_data = dataset[start:end]\n",
    "\n",
    "        # Train-test split\n",
    "        split_idx = int(train_ratio * len(client_data))\n",
    "        train_data = client_data[:split_idx]\n",
    "        test_data = client_data[split_idx:]\n",
    "\n",
    "        clients[i] = {\n",
    "            'train': train_data,\n",
    "            'test': test_data\n",
    "        }\n",
    "\n",
    "        print(f\"Client {i}: {len(train_data)} train, {len(test_data)} test samples\")\n",
    "\n",
    "    return clients\n",
    "\n",
    "client_datasets = split_among_clients(combined_dataset, args.initial_clients)\n",
    "\n",
    "print(f\" Created {args.initial_clients} federated clients with train-test splits.\")\n"
   ]
  },
  {
   "cell_type": "markdown",
   "id": "871d1957",
   "metadata": {
    "id": "871d1957"
   },
   "source": [
    "Load and Customize DenseNet121"
   ]
  },
  {
   "cell_type": "code",
   "execution_count": 10,
   "id": "c670f05d",
   "metadata": {
    "colab": {
     "base_uri": "https://localhost:8080/"
    },
    "executionInfo": {
     "elapsed": 1318,
     "status": "ok",
     "timestamp": 1748497075412,
     "user": {
      "displayName": "Bikram Mukherjee",
      "userId": "06654060310173054496"
     },
     "user_tz": -330
    },
    "id": "c670f05d",
    "outputId": "090361f2-5f00-4997-e300-91593a5f3399"
   },
   "outputs": [
    {
     "name": "stdout",
     "output_type": "stream",
     "text": [
      " ResNet18 with GroupNorm ready for 3 classes on cuda\n"
     ]
    }
   ],
   "source": [
    "#  Cell 7: Load ResNet18 with GroupNorm\n",
    "from torchvision import models\n",
    "import torch.nn as nn\n",
    "# Helper: replace all BatchNorm2d with GroupNorm \n",
    "def convert_bn_to_gn(model, num_groups=2):\n",
    "    for name, module in model.named_children():\n",
    "        if isinstance(module, nn.BatchNorm2d):\n",
    "            setattr(model, name, nn.GroupNorm(num_groups, module.num_features))\n",
    "        else:\n",
    "            convert_bn_to_gn(module, num_groups=num_groups)\n",
    "    return model\n",
    "\n",
    "def get_resnet18_model(num_classes):\n",
    "    model = models.resnet18(pretrained=True)\n",
    "    model = convert_bn_to_gn(model)\n",
    "    model.fc = nn.Linear(model.fc.in_features, num_classes)\n",
    "\n",
    "    return model.to(args.device)\n",
    "global_model = get_resnet18_model(num_classes=args.num_classes)\n",
    "\n",
    "print(f\" ResNet18 with GroupNorm ready for {args.num_classes} classes on {args.device}\")\n"
   ]
  },
  {
   "cell_type": "markdown",
   "id": "14c7137e",
   "metadata": {
    "id": "14c7137e"
   },
   "source": [
    "Local Training with Opacus"
   ]
  },
  {
   "cell_type": "code",
   "execution_count": 11,
   "id": "1f7163dd",
   "metadata": {
    "id": "1f7163dd"
   },
   "outputs": [],
   "source": [
    "from opacus import PrivacyEngine\n",
    "from torch.utils.data import DataLoader\n",
    "import copy\n",
    "import torch\n",
    "import torch.nn as nn\n",
    "\n",
    "def train_local_model(client_id, model, train_data, test_data, args):\n",
    "    # Deep copy the global model\n",
    "    model = copy.deepcopy(model).to(args.device)\n",
    "    model.train()\n",
    "\n",
    "    # Dataloaders\n",
    "    train_loader = DataLoader(train_data, batch_size=args.batch_size, shuffle=True)\n",
    "    test_loader = DataLoader(test_data, batch_size=args.batch_size, shuffle=False)\n",
    "\n",
    "    # Optimizer and loss\n",
    "    optimizer = torch.optim.SGD(model.parameters(), lr=args.lr)\n",
    "    criterion = nn.CrossEntropyLoss()\n",
    "\n",
    "    # Attach Privacy Engine\n",
    "    privacy_engine = PrivacyEngine()\n",
    "    model, optimizer, train_loader = privacy_engine.make_private(\n",
    "        module=model,\n",
    "        optimizer=optimizer,\n",
    "        data_loader=train_loader,\n",
    "        noise_multiplier=args.noise_multiplier,\n",
    "        max_grad_norm=args.max_grad_norm,\n",
    "    )\n",
    "\n",
    "    # Training loop\n",
    "    for epoch in range(args.epochs):\n",
    "        running_loss = 0.0\n",
    "        for images, labels in train_loader:\n",
    "            images, labels = images.to(args.device), labels.to(args.device)\n",
    "            optimizer.zero_grad()\n",
    "            outputs = model(images)\n",
    "            loss = criterion(outputs, labels)\n",
    "            loss.backward()\n",
    "            optimizer.step()\n",
    "            running_loss += loss.item()\n",
    "        print(f\"[Client {client_id}] Epoch {epoch+1}/{args.epochs}, Loss: {running_loss:.4f}\")\n",
    "\n",
    "    # Evaluation on test set\n",
    "    model.eval()\n",
    "    correct = 0\n",
    "    total = 0\n",
    "    with torch.no_grad():\n",
    "        for images, labels in test_loader:\n",
    "            images, labels = images.to(args.device), labels.to(args.device)\n",
    "            outputs = model(images)\n",
    "            _, predicted = torch.max(outputs, 1)\n",
    "            total += labels.size(0)\n",
    "            correct += (predicted == labels).sum().item()\n",
    "    acc = 100 * correct / total\n",
    "    print(f\"[Client {client_id}] Test Accuracy: {acc:.2f}%\")\n",
    "\n",
    "    # Privacy accounting\n",
    "    epsilon = privacy_engine.get_epsilon(delta=args.delta)\n",
    "    print(f\"[Client {client_id}] Training done. ε = {epsilon:.2f}\")\n",
    "\n",
    "    return model.state_dict(), epsilon\n"
   ]
  },
  {
   "cell_type": "markdown",
   "id": "62be271d",
   "metadata": {
    "id": "62be271d"
   },
   "source": [
    "FedAvg\n"
   ]
  },
  {
   "cell_type": "code",
   "execution_count": 12,
   "id": "fae23ac1",
   "metadata": {
    "id": "fae23ac1"
   },
   "outputs": [],
   "source": [
    "import copy\n",
    "def fed_avg(client_weights):\n",
    "    # Deep copy the first client's weights\n",
    "    avg_weights = copy.deepcopy(client_weights[0])\n",
    "\n",
    "    # Sum all the client weights\n",
    "    for key in avg_weights.keys():\n",
    "        for i in range(1, len(client_weights)):\n",
    "            avg_weights[key] += client_weights[i][key]\n",
    "        avg_weights[key] = avg_weights[key] / len(client_weights)\n",
    "\n",
    "    return avg_weights\n"
   ]
  },
  {
   "cell_type": "markdown",
   "id": "6687d404",
   "metadata": {
    "id": "6687d404"
   },
   "source": [
    "Inttermittent Client Updates"
   ]
  },
  {
   "cell_type": "code",
   "execution_count": 13,
   "id": "d6010b3f",
   "metadata": {
    "id": "d6010b3f"
   },
   "outputs": [],
   "source": [
    "def select_clients(client_datasets, round_idx, drop_rate=0.2, seed=None):\n",
    "    total_clients = len(client_datasets)\n",
    "    available_clients = list(client_datasets.keys())\n",
    "\n",
    "    # Optional: reproducible random selection\n",
    "    if seed is not None:\n",
    "        random.seed(seed + round_idx)  # Different pattern each round, but reproducible\n",
    "    elif hasattr(args, \"seed\"):\n",
    "        random.seed(args.seed + round_idx)\n",
    "\n",
    "    # Drop a portion of clients\n",
    "    num_drop = int(total_clients * drop_rate)\n",
    "    random.shuffle(available_clients)\n",
    "    selected_clients = available_clients[num_drop:]\n",
    "\n",
    "    print(f\"🔁 Round {round_idx+1}: Selected {len(selected_clients)} out of {total_clients} clients\")\n",
    "    return selected_clients\n"
   ]
  },
  {
   "cell_type": "markdown",
   "id": "aa92df87",
   "metadata": {
    "id": "aa92df87"
   },
   "source": [
    "Training loop"
   ]
  },
  {
   "cell_type": "code",
   "execution_count": null,
   "id": "5ae295b0",
   "metadata": {
    "colab": {
     "base_uri": "https://localhost:8080/",
     "height": 211
    },
    "executionInfo": {
     "elapsed": 537,
     "status": "error",
     "timestamp": 1748502942362,
     "user": {
      "displayName": "Bikram Mukherjee",
      "userId": "06654060310173054496"
     },
     "user_tz": -330
    },
    "id": "5ae295b0",
    "outputId": "cf75eb70-5de0-492c-fe17-1e473f6d5c55"
   },
   "outputs": [
    {
     "name": "stdout",
     "output_type": "stream",
     "text": [
      "Loading model from global_model_round_7.pt\n",
      "\n",
      " -------- Federated Round 8 --------\n",
      "🔁 Round 8: Selected 5 out of 6 clients\n",
      "[Client 1] Epoch 1/7, Loss: 126.7939\n",
      "[Client 1] Epoch 2/7, Loss: 132.6227\n",
      "[Client 1] Epoch 3/7, Loss: 131.6891\n",
      "[Client 1] Epoch 4/7, Loss: 117.0214\n",
      "[Client 1] Epoch 5/7, Loss: 118.6948\n",
      "[Client 1] Epoch 6/7, Loss: 131.2405\n",
      "[Client 1] Epoch 7/7, Loss: 132.0727\n",
      "[Client 1] Test Accuracy: 69.14%\n",
      "[Client 1] Training done. ε = 1.25\n",
      "[Client 1]  Test Accuracy: 69.14%\n",
      "[Client 5] Epoch 1/7, Loss: 125.4397\n",
      "[Client 5] Epoch 2/7, Loss: 128.6901\n",
      "[Client 5] Epoch 3/7, Loss: 132.1705\n",
      "[Client 5] Epoch 4/7, Loss: 123.3298\n",
      "[Client 5] Epoch 5/7, Loss: 130.3756\n",
      "[Client 5] Epoch 6/7, Loss: 131.8602\n",
      "[Client 5] Epoch 7/7, Loss: 124.6350\n",
      "[Client 5] Test Accuracy: 69.14%\n",
      "[Client 5] Training done. ε = 1.25\n",
      "[Client 5]  Test Accuracy: 69.14%\n",
      "[Client 3] Epoch 1/7, Loss: 128.6995\n",
      "[Client 3] Epoch 2/7, Loss: 126.2107\n",
      "[Client 3] Epoch 3/7, Loss: 121.5545\n",
      "[Client 3] Epoch 4/7, Loss: 124.0016\n",
      "[Client 3] Epoch 5/7, Loss: 123.5651\n",
      "[Client 3] Epoch 6/7, Loss: 129.5992\n",
      "[Client 3] Epoch 7/7, Loss: 125.7958\n",
      "[Client 3] Test Accuracy: 71.24%\n",
      "[Client 3] Training done. ε = 1.25\n",
      "[Client 3]  Test Accuracy: 71.24%\n",
      "[Client 2] Epoch 1/7, Loss: 134.1571\n",
      "[Client 2] Epoch 2/7, Loss: 130.2282\n",
      "[Client 2] Epoch 3/7, Loss: 133.1943\n",
      "[Client 2] Epoch 4/7, Loss: 137.7503\n",
      "[Client 2] Epoch 5/7, Loss: 140.6813\n",
      "[Client 2] Epoch 6/7, Loss: 138.9859\n",
      "[Client 2] Epoch 7/7, Loss: 135.2852\n",
      "[Client 2] Test Accuracy: 65.47%\n",
      "[Client 2] Training done. ε = 1.25\n",
      "[Client 2]  Test Accuracy: 65.47%\n",
      "[Client 0] Epoch 1/7, Loss: 130.0666\n",
      "[Client 0] Epoch 2/7, Loss: 125.3288\n",
      "[Client 0] Epoch 3/7, Loss: 127.7276\n",
      "[Client 0] Epoch 4/7, Loss: 121.9595\n",
      "[Client 0] Epoch 5/7, Loss: 125.4856\n",
      "[Client 0] Epoch 6/7, Loss: 126.0250\n",
      "[Client 0] Epoch 7/7, Loss: 129.9439\n",
      "[Client 0] Test Accuracy: 72.03%\n",
      "[Client 0] Training done. ε = 1.25\n",
      "[Client 0]  Test Accuracy: 72.03%\n",
      " Round 8 complete. Avg ε = 1.25, Avg Test Acc = 69.41% | Time: 2961.4s\n",
      " 🌍 Global Model Accuracy (All Clients' Test Sets): 72.09%\n",
      "✅ Saved global model to global_model_round_8.pt\n",
      "\n",
      " -------- Federated Round 9 --------\n",
      "🔁 Round 9: Selected 5 out of 6 clients\n"
     ]
    },
    {
     "ename": "KeyboardInterrupt",
     "evalue": "",
     "output_type": "error",
     "traceback": [
      "\u001b[1;31m---------------------------------------------------------------------------\u001b[0m",
      "\u001b[1;31mKeyboardInterrupt\u001b[0m                         Traceback (most recent call last)",
      "Cell \u001b[1;32mIn[14], line 112\u001b[0m\n\u001b[0;32m    109\u001b[0m test_len \u001b[38;5;241m=\u001b[39m \u001b[38;5;28mlen\u001b[39m(full_dataset) \u001b[38;5;241m-\u001b[39m train_len\n\u001b[0;32m    110\u001b[0m train_dataset, test_dataset \u001b[38;5;241m=\u001b[39m random_split(full_dataset, [train_len, test_len])\n\u001b[1;32m--> 112\u001b[0m updated_weights, epsilon \u001b[38;5;241m=\u001b[39m \u001b[43mtrain_local_model\u001b[49m\u001b[43m(\u001b[49m\u001b[43mclient_id\u001b[49m\u001b[43m,\u001b[49m\u001b[43m \u001b[49m\u001b[43mglobal_model\u001b[49m\u001b[43m,\u001b[49m\u001b[43m \u001b[49m\u001b[43mtrain_dataset\u001b[49m\u001b[43m,\u001b[49m\u001b[43m \u001b[49m\u001b[43mtest_dataset\u001b[49m\u001b[43m,\u001b[49m\u001b[43m \u001b[49m\u001b[43margs\u001b[49m\u001b[43m)\u001b[49m\n\u001b[0;32m    113\u001b[0m client_weights\u001b[38;5;241m.\u001b[39mappend(updated_weights)\n\u001b[0;32m    114\u001b[0m epsilons\u001b[38;5;241m.\u001b[39mappend(epsilon)\n",
      "Cell \u001b[1;32mIn[11], line 33\u001b[0m, in \u001b[0;36mtrain_local_model\u001b[1;34m(client_id, model, train_data, test_data, args)\u001b[0m\n\u001b[0;32m     31\u001b[0m \u001b[38;5;28;01mfor\u001b[39;00m epoch \u001b[38;5;129;01min\u001b[39;00m \u001b[38;5;28mrange\u001b[39m(args\u001b[38;5;241m.\u001b[39mepochs):\n\u001b[0;32m     32\u001b[0m     running_loss \u001b[38;5;241m=\u001b[39m \u001b[38;5;241m0.0\u001b[39m\n\u001b[1;32m---> 33\u001b[0m     \u001b[38;5;28;01mfor\u001b[39;00m images, labels \u001b[38;5;129;01min\u001b[39;00m train_loader:\n\u001b[0;32m     34\u001b[0m         images, labels \u001b[38;5;241m=\u001b[39m images\u001b[38;5;241m.\u001b[39mto(args\u001b[38;5;241m.\u001b[39mdevice), labels\u001b[38;5;241m.\u001b[39mto(args\u001b[38;5;241m.\u001b[39mdevice)\n\u001b[0;32m     35\u001b[0m         optimizer\u001b[38;5;241m.\u001b[39mzero_grad()\n",
      "File \u001b[1;32mc:\\Users\\Bikram\\AppData\\Local\\Programs\\Python\\Python310\\lib\\site-packages\\torch\\utils\\data\\dataloader.py:633\u001b[0m, in \u001b[0;36m_BaseDataLoaderIter.__next__\u001b[1;34m(self)\u001b[0m\n\u001b[0;32m    630\u001b[0m \u001b[38;5;28;01mif\u001b[39;00m \u001b[38;5;28mself\u001b[39m\u001b[38;5;241m.\u001b[39m_sampler_iter \u001b[38;5;129;01mis\u001b[39;00m \u001b[38;5;28;01mNone\u001b[39;00m:\n\u001b[0;32m    631\u001b[0m     \u001b[38;5;66;03m# TODO(https://github.com/pytorch/pytorch/issues/76750)\u001b[39;00m\n\u001b[0;32m    632\u001b[0m     \u001b[38;5;28mself\u001b[39m\u001b[38;5;241m.\u001b[39m_reset()  \u001b[38;5;66;03m# type: ignore[call-arg]\u001b[39;00m\n\u001b[1;32m--> 633\u001b[0m data \u001b[38;5;241m=\u001b[39m \u001b[38;5;28;43mself\u001b[39;49m\u001b[38;5;241;43m.\u001b[39;49m\u001b[43m_next_data\u001b[49m\u001b[43m(\u001b[49m\u001b[43m)\u001b[49m\n\u001b[0;32m    634\u001b[0m \u001b[38;5;28mself\u001b[39m\u001b[38;5;241m.\u001b[39m_num_yielded \u001b[38;5;241m+\u001b[39m\u001b[38;5;241m=\u001b[39m \u001b[38;5;241m1\u001b[39m\n\u001b[0;32m    635\u001b[0m \u001b[38;5;28;01mif\u001b[39;00m \u001b[38;5;28mself\u001b[39m\u001b[38;5;241m.\u001b[39m_dataset_kind \u001b[38;5;241m==\u001b[39m _DatasetKind\u001b[38;5;241m.\u001b[39mIterable \u001b[38;5;129;01mand\u001b[39;00m \\\n\u001b[0;32m    636\u001b[0m         \u001b[38;5;28mself\u001b[39m\u001b[38;5;241m.\u001b[39m_IterableDataset_len_called \u001b[38;5;129;01mis\u001b[39;00m \u001b[38;5;129;01mnot\u001b[39;00m \u001b[38;5;28;01mNone\u001b[39;00m \u001b[38;5;129;01mand\u001b[39;00m \\\n\u001b[0;32m    637\u001b[0m         \u001b[38;5;28mself\u001b[39m\u001b[38;5;241m.\u001b[39m_num_yielded \u001b[38;5;241m>\u001b[39m \u001b[38;5;28mself\u001b[39m\u001b[38;5;241m.\u001b[39m_IterableDataset_len_called:\n",
      "File \u001b[1;32mc:\\Users\\Bikram\\AppData\\Local\\Programs\\Python\\Python310\\lib\\site-packages\\torch\\utils\\data\\dataloader.py:677\u001b[0m, in \u001b[0;36m_SingleProcessDataLoaderIter._next_data\u001b[1;34m(self)\u001b[0m\n\u001b[0;32m    675\u001b[0m \u001b[38;5;28;01mdef\u001b[39;00m\u001b[38;5;250m \u001b[39m\u001b[38;5;21m_next_data\u001b[39m(\u001b[38;5;28mself\u001b[39m):\n\u001b[0;32m    676\u001b[0m     index \u001b[38;5;241m=\u001b[39m \u001b[38;5;28mself\u001b[39m\u001b[38;5;241m.\u001b[39m_next_index()  \u001b[38;5;66;03m# may raise StopIteration\u001b[39;00m\n\u001b[1;32m--> 677\u001b[0m     data \u001b[38;5;241m=\u001b[39m \u001b[38;5;28;43mself\u001b[39;49m\u001b[38;5;241;43m.\u001b[39;49m\u001b[43m_dataset_fetcher\u001b[49m\u001b[38;5;241;43m.\u001b[39;49m\u001b[43mfetch\u001b[49m\u001b[43m(\u001b[49m\u001b[43mindex\u001b[49m\u001b[43m)\u001b[49m  \u001b[38;5;66;03m# may raise StopIteration\u001b[39;00m\n\u001b[0;32m    678\u001b[0m     \u001b[38;5;28;01mif\u001b[39;00m \u001b[38;5;28mself\u001b[39m\u001b[38;5;241m.\u001b[39m_pin_memory:\n\u001b[0;32m    679\u001b[0m         data \u001b[38;5;241m=\u001b[39m _utils\u001b[38;5;241m.\u001b[39mpin_memory\u001b[38;5;241m.\u001b[39mpin_memory(data, \u001b[38;5;28mself\u001b[39m\u001b[38;5;241m.\u001b[39m_pin_memory_device)\n",
      "File \u001b[1;32mc:\\Users\\Bikram\\AppData\\Local\\Programs\\Python\\Python310\\lib\\site-packages\\torch\\utils\\data\\_utils\\fetch.py:51\u001b[0m, in \u001b[0;36m_MapDatasetFetcher.fetch\u001b[1;34m(self, possibly_batched_index)\u001b[0m\n\u001b[0;32m     49\u001b[0m         data \u001b[38;5;241m=\u001b[39m \u001b[38;5;28mself\u001b[39m\u001b[38;5;241m.\u001b[39mdataset\u001b[38;5;241m.\u001b[39m__getitems__(possibly_batched_index)\n\u001b[0;32m     50\u001b[0m     \u001b[38;5;28;01melse\u001b[39;00m:\n\u001b[1;32m---> 51\u001b[0m         data \u001b[38;5;241m=\u001b[39m [\u001b[38;5;28mself\u001b[39m\u001b[38;5;241m.\u001b[39mdataset[idx] \u001b[38;5;28;01mfor\u001b[39;00m idx \u001b[38;5;129;01min\u001b[39;00m possibly_batched_index]\n\u001b[0;32m     52\u001b[0m \u001b[38;5;28;01melse\u001b[39;00m:\n\u001b[0;32m     53\u001b[0m     data \u001b[38;5;241m=\u001b[39m \u001b[38;5;28mself\u001b[39m\u001b[38;5;241m.\u001b[39mdataset[possibly_batched_index]\n",
      "File \u001b[1;32mc:\\Users\\Bikram\\AppData\\Local\\Programs\\Python\\Python310\\lib\\site-packages\\torch\\utils\\data\\_utils\\fetch.py:51\u001b[0m, in \u001b[0;36m<listcomp>\u001b[1;34m(.0)\u001b[0m\n\u001b[0;32m     49\u001b[0m         data \u001b[38;5;241m=\u001b[39m \u001b[38;5;28mself\u001b[39m\u001b[38;5;241m.\u001b[39mdataset\u001b[38;5;241m.\u001b[39m__getitems__(possibly_batched_index)\n\u001b[0;32m     50\u001b[0m     \u001b[38;5;28;01melse\u001b[39;00m:\n\u001b[1;32m---> 51\u001b[0m         data \u001b[38;5;241m=\u001b[39m [\u001b[38;5;28;43mself\u001b[39;49m\u001b[38;5;241;43m.\u001b[39;49m\u001b[43mdataset\u001b[49m\u001b[43m[\u001b[49m\u001b[43midx\u001b[49m\u001b[43m]\u001b[49m \u001b[38;5;28;01mfor\u001b[39;00m idx \u001b[38;5;129;01min\u001b[39;00m possibly_batched_index]\n\u001b[0;32m     52\u001b[0m \u001b[38;5;28;01melse\u001b[39;00m:\n\u001b[0;32m     53\u001b[0m     data \u001b[38;5;241m=\u001b[39m \u001b[38;5;28mself\u001b[39m\u001b[38;5;241m.\u001b[39mdataset[possibly_batched_index]\n",
      "File \u001b[1;32mc:\\Users\\Bikram\\AppData\\Local\\Programs\\Python\\Python310\\lib\\site-packages\\torch\\utils\\data\\dataset.py:298\u001b[0m, in \u001b[0;36mSubset.__getitem__\u001b[1;34m(self, idx)\u001b[0m\n\u001b[0;32m    296\u001b[0m \u001b[38;5;28;01mif\u001b[39;00m \u001b[38;5;28misinstance\u001b[39m(idx, \u001b[38;5;28mlist\u001b[39m):\n\u001b[0;32m    297\u001b[0m     \u001b[38;5;28;01mreturn\u001b[39;00m \u001b[38;5;28mself\u001b[39m\u001b[38;5;241m.\u001b[39mdataset[[\u001b[38;5;28mself\u001b[39m\u001b[38;5;241m.\u001b[39mindices[i] \u001b[38;5;28;01mfor\u001b[39;00m i \u001b[38;5;129;01min\u001b[39;00m idx]]\n\u001b[1;32m--> 298\u001b[0m \u001b[38;5;28;01mreturn\u001b[39;00m \u001b[38;5;28;43mself\u001b[39;49m\u001b[38;5;241;43m.\u001b[39;49m\u001b[43mdataset\u001b[49m\u001b[43m[\u001b[49m\u001b[38;5;28;43mself\u001b[39;49m\u001b[38;5;241;43m.\u001b[39;49m\u001b[43mindices\u001b[49m\u001b[43m[\u001b[49m\u001b[43midx\u001b[49m\u001b[43m]\u001b[49m\u001b[43m]\u001b[49m\n",
      "Cell \u001b[1;32mIn[14], line 27\u001b[0m, in \u001b[0;36mXrayLazyDataset.__getitem__\u001b[1;34m(self, idx)\u001b[0m\n\u001b[0;32m     24\u001b[0m image_or_path, label \u001b[38;5;241m=\u001b[39m \u001b[38;5;28mself\u001b[39m\u001b[38;5;241m.\u001b[39mimage_label_list[idx]\n\u001b[0;32m     26\u001b[0m \u001b[38;5;28;01mif\u001b[39;00m \u001b[38;5;28misinstance\u001b[39m(image_or_path, \u001b[38;5;28mstr\u001b[39m):\n\u001b[1;32m---> 27\u001b[0m     image \u001b[38;5;241m=\u001b[39m \u001b[43mImage\u001b[49m\u001b[38;5;241;43m.\u001b[39;49m\u001b[43mopen\u001b[49m\u001b[43m(\u001b[49m\u001b[43mimage_or_path\u001b[49m\u001b[43m)\u001b[49m\u001b[38;5;241;43m.\u001b[39;49m\u001b[43mconvert\u001b[49m\u001b[43m(\u001b[49m\u001b[38;5;124;43m\"\u001b[39;49m\u001b[38;5;124;43mRGB\u001b[39;49m\u001b[38;5;124;43m\"\u001b[39;49m\u001b[43m)\u001b[49m\n\u001b[0;32m     28\u001b[0m \u001b[38;5;28;01melif\u001b[39;00m \u001b[38;5;28misinstance\u001b[39m(image_or_path, Image\u001b[38;5;241m.\u001b[39mImage):\n\u001b[0;32m     29\u001b[0m     image \u001b[38;5;241m=\u001b[39m image_or_path\n",
      "File \u001b[1;32mc:\\Users\\Bikram\\AppData\\Local\\Programs\\Python\\Python310\\lib\\site-packages\\PIL\\Image.py:1141\u001b[0m, in \u001b[0;36mImage.convert\u001b[1;34m(self, mode, matrix, dither, palette, colors)\u001b[0m\n\u001b[0;32m   1138\u001b[0m     dither \u001b[38;5;241m=\u001b[39m Dither\u001b[38;5;241m.\u001b[39mFLOYDSTEINBERG\n\u001b[0;32m   1140\u001b[0m \u001b[38;5;28;01mtry\u001b[39;00m:\n\u001b[1;32m-> 1141\u001b[0m     im \u001b[38;5;241m=\u001b[39m \u001b[38;5;28;43mself\u001b[39;49m\u001b[38;5;241;43m.\u001b[39;49m\u001b[43mim\u001b[49m\u001b[38;5;241;43m.\u001b[39;49m\u001b[43mconvert\u001b[49m\u001b[43m(\u001b[49m\u001b[43mmode\u001b[49m\u001b[43m,\u001b[49m\u001b[43m \u001b[49m\u001b[43mdither\u001b[49m\u001b[43m)\u001b[49m\n\u001b[0;32m   1142\u001b[0m \u001b[38;5;28;01mexcept\u001b[39;00m \u001b[38;5;167;01mValueError\u001b[39;00m:\n\u001b[0;32m   1143\u001b[0m     \u001b[38;5;28;01mtry\u001b[39;00m:\n\u001b[0;32m   1144\u001b[0m         \u001b[38;5;66;03m# normalize source image and try again\u001b[39;00m\n",
      "\u001b[1;31mKeyboardInterrupt\u001b[0m: "
     ]
    }
   ],
   "source": [
    "import os\n",
    "import time\n",
    "import copy\n",
    "import torch\n",
    "from torch.utils.data import DataLoader, random_split, Dataset\n",
    "from torchvision import transforms\n",
    "from PIL import Image\n",
    "import random\n",
    "\n",
    "# Constants\n",
    "NUM_CLASSES = 3\n",
    "os.environ[\"CUDA_LAUNCH_BLOCKING\"] = \"1\"\n",
    "\n",
    "# Dataset that handles both file paths and PIL images\n",
    "class XrayLazyDataset(Dataset):\n",
    "    def __init__(self, image_label_list, transform=None):\n",
    "        self.image_label_list = image_label_list\n",
    "        self.transform = transform\n",
    "\n",
    "    def __len__(self):\n",
    "        return len(self.image_label_list)\n",
    "\n",
    "    def __getitem__(self, idx):\n",
    "        image_or_path, label = self.image_label_list[idx]\n",
    "\n",
    "        if isinstance(image_or_path, str):\n",
    "            image = Image.open(image_or_path).convert(\"RGB\")\n",
    "        elif isinstance(image_or_path, Image.Image):\n",
    "            image = image_or_path\n",
    "        else:\n",
    "            raise ValueError(f\"Unsupported image type: {type(image_or_path)}\")\n",
    "\n",
    "        if self.transform:\n",
    "            image = self.transform(image)\n",
    "\n",
    "        return image, label\n",
    "\n",
    "# Strip Opacus prefixes if present\n",
    "def strip_opacus_prefix(state_dict):\n",
    "    return {k.replace(\"_module.\", \"\"): v for k, v in state_dict.items()}\n",
    "\n",
    "# Model evaluation\n",
    "def evaluate_model(model, dataset, args):\n",
    "    model.eval()\n",
    "    loader = DataLoader(dataset, batch_size=args.batch_size)\n",
    "    correct = 0\n",
    "    total = 0\n",
    "    with torch.no_grad():\n",
    "        for images, labels in loader:\n",
    "            images, labels = images.to(args.device), labels.to(args.device)\n",
    "\n",
    "            if not torch.all((labels >= 0) & (labels < NUM_CLASSES)):\n",
    "                print(f\" Invalid labels found: {labels}\")\n",
    "                continue\n",
    "\n",
    "            outputs = model(images)\n",
    "            if outputs.shape[1] != NUM_CLASSES:\n",
    "                raise RuntimeError(f\" Model output shape {outputs.shape[1]} ≠ NUM_CLASSES {NUM_CLASSES}\")\n",
    "\n",
    "            _, predicted = torch.max(outputs, 1)\n",
    "            total += labels.size(0)\n",
    "            correct += (predicted == labels).sum().item()\n",
    "    return 100 * correct / total\n",
    "\n",
    "# Load the latest saved global model if exists\n",
    "def load_latest_model(global_model):\n",
    "    files = [f for f in os.listdir('.') if f.startswith('global_model_round_') and f.endswith('.pt')]\n",
    "    if not files:\n",
    "        return 0  # No previous round\n",
    "    \n",
    "    latest_round = max([int(f.split('_')[-1].split('.')[0]) for f in files])\n",
    "    latest_file = f\"global_model_round_{latest_round}.pt\"\n",
    "    print(f\"Loading model from {latest_file}\")\n",
    "    global_model.load_state_dict(torch.load(latest_file))\n",
    "    return latest_round\n",
    "\n",
    "# Federated training\n",
    "start_round = load_latest_model(global_model)\n",
    "global_weights = global_model.state_dict()\n",
    "epsilon_tracker = []\n",
    "round_times = []\n",
    "test_accuracies = []\n",
    "\n",
    "for round_idx in range(start_round, args.round_count):\n",
    "    print(f\"\\n -------- Federated Round {round_idx + 1} --------\")\n",
    "\n",
    "    selected_clients = select_clients(client_datasets, round_idx, drop_rate=args.drop_rate)\n",
    "    client_weights = []\n",
    "    epsilons = []\n",
    "    round_test_acc = []\n",
    "\n",
    "    start_time = time.time()\n",
    "\n",
    "    for client_id in selected_clients:\n",
    "        client_data = client_datasets[client_id]\n",
    "\n",
    "        client_data_list = client_data['train'] + client_data['test']\n",
    "        client_data_list = [\n",
    "            (p, l) for (p, l) in client_data_list\n",
    "            if (isinstance(p, str) and os.path.isfile(p)) or isinstance(p, Image.Image)\n",
    "        ]\n",
    "\n",
    "        if len(client_data_list) == 0:\n",
    "            print(f\"[Skip] Client {client_id} has no valid data.\")\n",
    "            continue\n",
    "\n",
    "        full_dataset = XrayLazyDataset(client_data_list, transform=img_transform)\n",
    "        train_len = int(0.8 * len(full_dataset))\n",
    "        test_len = len(full_dataset) - train_len\n",
    "        train_dataset, test_dataset = random_split(full_dataset, [train_len, test_len])\n",
    "\n",
    "        updated_weights, epsilon = train_local_model(client_id, global_model, train_dataset, test_dataset, args)\n",
    "        client_weights.append(updated_weights)\n",
    "        epsilons.append(epsilon)\n",
    "\n",
    "        temp_model = copy.deepcopy(global_model).to(args.device)\n",
    "        temp_model.load_state_dict(strip_opacus_prefix(updated_weights))\n",
    "        acc = evaluate_model(temp_model, test_dataset, args)\n",
    "        round_test_acc.append(acc)\n",
    "        print(f\"[Client {client_id}]  Test Accuracy: {acc:.2f}%\")\n",
    "\n",
    "    if client_weights:\n",
    "        global_weights = fed_avg(client_weights)\n",
    "        global_weights = strip_opacus_prefix(global_weights)\n",
    "        global_model.load_state_dict(global_weights)\n",
    "\n",
    "        avg_epsilon = sum(epsilons) / len(epsilons)\n",
    "        avg_test_acc = sum(round_test_acc) / len(round_test_acc)\n",
    "        epsilon_tracker.append(avg_epsilon)\n",
    "        test_accuracies.append(avg_test_acc)\n",
    "\n",
    "        round_time = time.time() - start_time\n",
    "        round_times.append(round_time)\n",
    "\n",
    "        print(f\" Round {round_idx + 1} complete. Avg ε = {avg_epsilon:.2f}, Avg Test Acc = {avg_test_acc:.2f}% | Time: {round_time:.1f}s\")\n",
    "\n",
    "        # Global model evaluation\n",
    "        combined_test_data = []\n",
    "        for cid, cdata in client_datasets.items():\n",
    "            combined_test_data += [\n",
    "                (p, l) for (p, l) in cdata['test']\n",
    "                if (isinstance(p, str) and os.path.isfile(p)) or isinstance(p, Image.Image)\n",
    "            ]\n",
    "\n",
    "        if len(combined_test_data) > 0:\n",
    "            global_test_dataset = XrayLazyDataset(combined_test_data, transform=img_transform)\n",
    "            global_test_acc = evaluate_model(global_model.to(args.device), global_test_dataset, args)\n",
    "            print(f\"  Global Model Accuracy (All Clients' Test Sets): {global_test_acc:.2f}%\")\n",
    "        else:\n",
    "            print(\" No valid test data found for global model evaluation.\")\n",
    "\n",
    "        # Save global model\n",
    "        torch.save(global_model.state_dict(), f\"global_model_round_{round_idx+1}.pt\")\n",
    "        print(f\" Saved global model to global_model_round_{round_idx+1}.pt\")\n",
    "    else:\n",
    "        print(\" No valid client updates this round. Skipping FedAvg.\")\n",
    "\n",
    "print(\"\\n Federated training finished.\")\n"
   ]
  }
 ],
 "metadata": {
  "accelerator": "GPU",
  "colab": {
   "gpuType": "T4",
   "provenance": []
  },
  "kernelspec": {
   "display_name": "Python 3",
   "name": "python3"
  },
  "language_info": {
   "codemirror_mode": {
    "name": "ipython",
    "version": 3
   },
   "file_extension": ".py",
   "mimetype": "text/x-python",
   "name": "python",
   "nbconvert_exporter": "python",
   "pygments_lexer": "ipython3",
   "version": "3.10.11"
  }
 },
 "nbformat": 4,
 "nbformat_minor": 5
}
